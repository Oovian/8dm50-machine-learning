{
 "cells": [
  {
   "cell_type": "markdown",
   "metadata": {},
   "source": [
    "# Under- and overfitting, model selection\n",
    "\n",
    "## Preliminaries\n",
    "\n",
    "In the first set of exercises you had to implement the training and evaluation of the linear regression and $k$-NN methods from scratch in order to practice your `numpy` skills. From this set of exercises onward, you can use the implementations provided in `scikit-learn` or other higher-level libraries. We start this set of exercises by demonstrating some of the features of `scikit-learn`.\n",
    "\n",
    "For example, implementation of linear regression model fitting with an analytical solution for the parameters is provided by the class `sklearn.linar_model.LinearRegression`. You can train a linear regression model in the following way:"
   ]
  },
  {
   "cell_type": "code",
   "execution_count": 1,
   "metadata": {},
   "outputs": [
    {
     "data": {
      "text/plain": [
       "LinearRegression()"
      ]
     },
     "execution_count": 1,
     "metadata": {},
     "output_type": "execute_result"
    }
   ],
   "source": [
    "import numpy as np\n",
    "from sklearn import datasets, linear_model\n",
    "\n",
    "# load the diabetes dataset\n",
    "diabetes = datasets.load_diabetes()\n",
    "\n",
    "# use only one feature\n",
    "X = diabetes.data[:, np.newaxis, 2]\n",
    "y = diabetes.target\n",
    "\n",
    "# split the data into training/testing sets\n",
    "X_train = X[:-20]\n",
    "X_test = X[-20:]\n",
    "\n",
    "# split the targets into training/testing sets\n",
    "y_train = y[:-20]\n",
    "y_test = y[-20:]\n",
    "\n",
    "# create linear regression object\n",
    "model = linear_model.LinearRegression()\n",
    "\n",
    "# train the model using the training dataset\n",
    "model.fit(X_train, y_train)"
   ]
  },
  {
   "cell_type": "markdown",
   "metadata": {},
   "source": [
    "Let's visualize the training dataset and the learned regression model."
   ]
  },
  {
   "cell_type": "code",
   "execution_count": 2,
   "metadata": {},
   "outputs": [
    {
     "data": {
      "image/png": "[encoded data removed]",
      "text/plain": [
       "<Figure size 432x288 with 1 Axes>"
      ]
     },
     "metadata": {
      "needs_background": "light"
     },
     "output_type": "display_data"
    }
   ],
   "source": [
    "%matplotlib inline\n",
    "import matplotlib.pyplot as plt\n",
    "\n",
    "fig = plt.figure()\n",
    "plt.plot(X_train, y_train, 'r.', markersize=12)\n",
    "X_edge = np.array([np.min(X_train, 0), np.max(X_train, 0)])\n",
    "plt.plot(X_edge, model.predict(X_edge), 'b-')\n",
    "plt.legend(('Data', 'Linear regression'), loc='lower right')\n",
    "plt.title('Linear regression')\n",
    "plt.xlabel('$x$')\n",
    "plt.ylabel('$y$')\n",
    "plt.show()"
   ]
  },
  {
   "cell_type": "markdown",
   "metadata": {},
   "source": [
    "Once trained, the model can be used to make predictions on the test data:"
   ]
  },
  {
   "cell_type": "code",
   "execution_count": 3,
   "metadata": {},
   "outputs": [],
   "source": [
    "# Make predictions using the testing dataset\n",
    "prediction = model.predict(X_test)"
   ]
  },
  {
   "cell_type": "markdown",
   "metadata": {},
   "source": [
    "The next step (not shown here) is to evaluate the performance of the trained model.\n",
    "\n",
    "Note that the `scikit-learn` interface works by first initializing an object from the class that implements the machine learning model (linear regression in this case) and then fitting the initialized model using the data in the training set. Finally, the trained (fitted) model can be used to make predictions on unseen data. In fact, all models implemented in this library follow the same *initialize-fit-predict* programming interface. For example, a $k$-NN classifier can be trained in the following way:"
   ]
  },
  {
   "cell_type": "code",
   "execution_count": 4,
   "metadata": {},
   "outputs": [],
   "source": [
    "from sklearn.model_selection import train_test_split\n",
    "from sklearn import datasets, neighbors\n",
    "\n",
    "breast_cancer = datasets.load_breast_cancer()\n",
    "\n",
    "X = breast_cancer.data\n",
    "y = breast_cancer.target\n",
    "\n",
    "# make use of the train_test_split() utility function instead\n",
    "# of manually dividing the data\n",
    "X_train, X_test, y_train, y_test = train_test_split(X, y, stratify=y, random_state=40)\n",
    "\n",
    "# initialize a 3-NN classifier\n",
    "model = neighbors.KNeighborsClassifier(n_neighbors=3)\n",
    "\n",
    "# train the model using the training dataset\n",
    "model.fit(X_train, y_train)\n",
    "\n",
    "# make predictions using the testing dataset\n",
    "prediction = model.predict(X_test)"
   ]
  },
  {
   "cell_type": "markdown",
   "metadata": {},
   "source": [
    "Note that the features in the breast cancer dataset have different scales (some have on average very small absolute values, and some very large), which means that the distance metric used by $k$-NN will me dominated by the features with large values. You can use any of the number of feature transformation methods implemented in `scikit-learn` to scale the features. For example, you can use the `sklearn.preprocessing.StandardScaler` method to transform all features to a have a zero mean and unit variance:"
   ]
  },
  {
   "cell_type": "code",
   "execution_count": 5,
   "metadata": {},
   "outputs": [],
   "source": [
    "from sklearn.preprocessing import StandardScaler\n",
    "\n",
    "scaler = StandardScaler()\n",
    "scaler.fit(X_train)\n",
    "\n",
    "X_train_scaled = scaler.transform(X_train)"
   ]
  },
  {
   "cell_type": "markdown",
   "metadata": {},
   "source": [
    "The scaler has its own parameters which are the means and standard deviations of the features estimated from the training set. If you train a model with the scaled features, you will have to remember to also apply the scaling transformation every time you make a prediction on new unseen and unscaled data. This is somewhat prone to error. One option for making the code more robust is to create a processing pipeline that includes the scaling and $k$-NN models in a sequence:"
   ]
  },
  {
   "cell_type": "code",
   "execution_count": 6,
   "metadata": {},
   "outputs": [],
   "source": [
    "from sklearn.pipeline import Pipeline\n",
    "\n",
    "knn = neighbors.KNeighborsClassifier(n_neighbors=3)\n",
    "\n",
    "model = Pipeline([\n",
    "                 (\"scaler\", scaler),\n",
    "                 (\"knn\", knn)\n",
    "                ])\n",
    "\n",
    "# train the model using the training dataset\n",
    "model.fit(X_train, y_train)\n",
    "\n",
    "# make predictions using the testing dataset\n",
    "prediction = model.predict(X_test)\n"
   ]
  },
  {
   "cell_type": "markdown",
   "metadata": {},
   "source": [
    "If you are curious, more information about the design of the `scikit-learn` application programming interface (API) can be found [in this paper](https://arxiv.org/pdf/1309.0238.pdf). "
   ]
  },
  {
   "cell_type": "markdown",
   "metadata": {},
   "source": [
    "## Exercises\n",
    "\n",
    "### Bias-variance decomposition\n",
    "\n",
    "Show that the mean squared error of the estimate of a parameter can be decomposed into an expression that includes both the bias and variance (Eq. 5.53-5.54 in \"Deep learning\" by Goodfellow et al.). "
   ]
  },
  {
   "cell_type": "markdown",
   "metadata": {},
   "source": [
    "### Polynomial regression\n",
    "\n",
    "For this exercise we will be using generated data to better show the effects of the different polynomial orders.\n",
    "The data is created using the make_polynomial_regression function."
   ]
  },
  {
   "cell_type": "code",
   "execution_count": 7,
   "metadata": {},
   "outputs": [
    {
     "data": {
      "text/plain": [
       "[<matplotlib.lines.Line2D at 0x2522a72a668>]"
      ]
     },
     "execution_count": 7,
     "metadata": {},
     "output_type": "execute_result"
    },
    {
     "data": {
      "image/png": "[encoded data removed]",
      "text/plain": [
       "<Figure size 432x288 with 1 Axes>"
      ]
     },
     "metadata": {
      "needs_background": "light"
     },
     "output_type": "display_data"
    }
   ],
   "source": [
    "%matplotlib inline\n",
    "\n",
    "def generate_dataset(n=100, degree=1, noise=1, factors=None):\n",
    "    # Generates a dataset by adding random noise to a randomly\n",
    "    # generated polynomial function.\n",
    "    \n",
    "    x = np.random.uniform(low=-1, high=1, size=n)\n",
    "    \n",
    "    factors = np.random.uniform(0, 10, degree+1)\n",
    "    \n",
    "    y = np.zeros(x.shape)\n",
    "    \n",
    "    for idx in range(degree+1):\n",
    "        y += factors[idx] * (x ** idx)\n",
    "\n",
    "    # add noise\n",
    "    y += np.random.normal(-noise, noise, n)\n",
    "    \n",
    "    return x, y\n",
    "\n",
    "# load generated data\n",
    "np.random.seed(0)\n",
    "\n",
    "X, y = generate_dataset(n=100, degree=4, noise=1.5)\n",
    "\n",
    "plt.plot(X, y, 'r.', markersize=12)"
   ]
  },
  {
   "cell_type": "markdown",
   "metadata": {},
   "source": [
    "Implement polynomial regression using the `sklearn.preprocessing.PolynomialFeatures` transformation. Using the `sklearn.grid_search.GridSearchCV` class, perform a grid search of the polynomial order hyperparameter space with cross-validation and report the performance on an independent test set.\n",
    "\n",
    "Plot a learning curve that show the validation accuracy as a function of the polynomial order. \n",
    "\n",
    "<p><font color='#770a0a'>Which models have a high bias, and which models have high variance? Motivate your answer.</font><p>\n",
    "    \n",
    "Repeat this experiment, this time using the diabetes dataset instead of the generated data."
   ]
  },
  {
   "cell_type": "code",
   "execution_count": 8,
   "metadata": {},
   "outputs": [],
   "source": [
    "from sklearn.preprocessing import PolynomialFeatures\n",
    "from sklearn.model_selection import GridSearchCV\n",
    "from sklearn.linear_model import LinearRegression\n",
    "from sklearn.pipeline import Pipeline   \n",
    "from sklearn.metrics import mean_squared_error\n",
    "from sklearn.model_selection import train_test_split\n",
    "\n",
    "\n",
    "\n",
    "def gridsearch_polynomial_regressor(X_train, y_train,param_range):\n",
    "    \"\"\"\n",
    "    Function to perform grid search for polynomial regression\n",
    "    \n",
    "    Parameters:\n",
    "    X_train(numpy.ndarray): Training dataset \n",
    "    y_train(numpy.ndarray): Target value of training dataset\n",
    "    param_range: List of polynomial degrees to search over as 1-D numpy array\n",
    "    \n",
    "    Returns:\n",
    "\n",
    "    grid_search: GridSearchCV object\n",
    "    \"\"\"\n",
    "    #polynomial features and linear regression objects\n",
    "    poly = PolynomialFeatures()\n",
    "    linear_reg = LinearRegression()\n",
    "    #pipeline for polynomial features and linear regression\n",
    "    model = Pipeline([(\"poly\", poly),(\"linear\", linear_reg)])\n",
    "    #grid search parameter\n",
    "    param_grid={'poly__degree': param_range}\n",
    "    #grid search using cross validation\n",
    "    grid_search = GridSearchCV(model, param_grid, cv=5,scoring='neg_mean_squared_error',return_train_score=True)\n",
    "    #fit the grid search\n",
    "    grid_search.fit(X_train, y_train)\n",
    "    \n",
    "    return grid_search\n",
    "    \n",
    "\n",
    "\n",
    "    \n",
    "def plot_train_val_curve(grid_search_obj,param_range):\n",
    "    \"\"\" \n",
    "    Function to plot train and validation curve\n",
    "    \n",
    "    parameters:\n",
    "    grid_search_obj: GridSearchCV object\n",
    "    param_range: List of polynomial degrees to search over as 1-D numpy array\n",
    "    \n",
    "    \"\"\"\n",
    "    \n",
    "    #extract mean test and train scores from grid search object\n",
    "    result = grid_search_obj.cv_results_\n",
    "    val_scores = result['mean_test_score']\n",
    "    train_scores = result['mean_train_score']\n",
    "    \n",
    "    #plot train and validation curve\n",
    "    plt.figure(figsize=(10, 6))\n",
    "    plt.plot(param_range, val_scores*-1, label=\"Validation Score\", marker='o',c='b') \n",
    "    plt.plot(param_range, train_scores*-1, label=\"Training Score\", marker='o',c='r')\n",
    "    plt.legend()\n",
    "    plt.xlabel(\"Polynomial Degree\")\n",
    "    plt.ylabel(\"MSE\") \n",
    "    plt.title(\"Train Validation Curve\") \n",
    "    plt.show()\n",
    "\n",
    "\n",
    "    \n",
    "def evaluate_best_model(grid_search_obj,X_test,y_test):\n",
    "    \"\"\"\n",
    "    function to evaluate best model\n",
    "    \n",
    "    parameters:\n",
    "    grid_search_obj: GridSearchCV object\n",
    "    X_test(numpy.ndarray): Test dataset\n",
    "    y_test(numpy.ndarray): Target value of test dataset\n",
    "    \n",
    "    \"\"\"\n",
    "    #extract best model from grid search object\n",
    "    print(\"Best Polynomial model degree:\",grid_search_obj.best_params_['poly__degree'])\n",
    "    best_model = grid_search_obj.best_estimator_\n",
    "    #predict on test dataset\n",
    "    y_pred = best_model.predict(X_test)\n",
    "    #mean squared error\n",
    "    test_mse = mean_squared_error(y_test, y_pred) \n",
    "    print(\"Test MSE for best model:\",test_mse)\n",
    "\n",
    "\n",
    "    \n",
    "def best_polynomial_regressor_pipeline(X, y,param_range=np.arange(1,10),test_size=0.2):\n",
    "    \"\"\" \n",
    "    Function to perform grid search for polynomial regression, plot the train validation curve and evaluate best model\n",
    "    \n",
    "    parameters:\n",
    "    X(numpy.ndarray): Dataset\n",
    "    y(numpy.ndarray): Target value\n",
    "    param_range: List of polynomial degrees to search over as 1-D numpy array\n",
    "    test_size: Test dataset size\n",
    "    \n",
    "    \"\"\"\n",
    "    #split the dataset\n",
    "    X_train, X_test, y_train, y_test = train_test_split(X, y, test_size=test_size)\n",
    "    #get grid search object for polynomial regression\n",
    "    grid_obj = gridsearch_polynomial_regressor(X_train, y_train,param_range)\n",
    "    #plot train and validation curve\n",
    "    plot_train_val_curve(grid_obj,param_range)\n",
    "    #evaluate best model\n",
    "    evaluate_best_model(grid_obj,X_test,y_test)\n",
    "    \n",
    "        "
   ]
  },
  {
   "cell_type": "code",
   "execution_count": 9,
   "metadata": {},
   "outputs": [
    {
     "data": {
      "image/png": "[encoded data removed]",
      "text/plain": [
       "<Figure size 720x432 with 1 Axes>"
      ]
     },
     "metadata": {
      "needs_background": "light"
     },
     "output_type": "display_data"
    },
    {
     "name": "stdout",
     "output_type": "stream",
     "text": [
      "Best Polynomial model degree: 4\n",
      "Test MSE for best model: 1.2479489834287338\n"
     ]
    }
   ],
   "source": [
    "# load generated data\n",
    "X, y = generate_dataset(n=100, degree=4, noise=1.5)\n",
    "#call best_polynomial_regressor_pipeline function\n",
    "best_polynomial_regressor_pipeline(X[:, np.newaxis], y,param_range=np.arange(1,11),test_size=0.2)"
   ]
  },
  {
   "cell_type": "markdown",
   "metadata": {},
   "source": [
    "From the train_validation_curve, it's clear that the polynomial model with degree=1 is \"underfitting\", as both the training and test MSE scores are high and close to each other. This indicates that the model has high bias is unable to capture the complexity of the data. On the other hand, the model with degree=10 shows \"overfitting\" on the training data, as it performs so good on the training data (having low MSE score), but has very high test MSE. Thus we could say this model has high variance."
   ]
  },
  {
   "cell_type": "code",
   "execution_count": 19,
   "metadata": {},
   "outputs": [
    {
     "data": {
      "image/png": "[encoded data removed]",
      "text/plain": [
       "<Figure size 720x432 with 1 Axes>"
      ]
     },
     "metadata": {
      "needs_background": "light"
     },
     "output_type": "display_data"
    },
    {
     "name": "stdout",
     "output_type": "stream",
     "text": [
      "Best Polynomial model degree: 1\n",
      "Test MSE for best model: 3835.838118933293\n"
     ]
    }
   ],
   "source": [
    "# load the diabetes dataset\n",
    "diabetes = datasets.load_diabetes()\n",
    "\n",
    "X = diabetes.data \n",
    "y = diabetes.target\n",
    "#call best_polynomial_regressor_pipeline function\n",
    "best_polynomial_regressor_pipeline(X, y,param_range=np.arange(1,11),test_size=0.2)\n"
   ]
  },
  {
   "cell_type": "markdown",
   "metadata": {},
   "source": [
    "### ROC curve analysis\n",
    "A common method to evaluate binary classifiers is the receiver operating characteristic (ROC) curve. Similar to the week one practicals, implement a $k$-NN classifier on the breast cancer dataset, however, his time use the $k$-NN pipeline from the preliminary. Train the model for different values of $k$ and evaluate their respective performance with an ROC curve, use the `sklearn.metrics.roc_curve` function."
   ]
  },
  {
   "cell_type": "markdown",
   "metadata": {},
   "source": [
    "### $F_1$ score and Dice similarity coefficient\n",
    "\n",
    "The Dice similarity coefficient is a very popular evaluation measure for image segmentation applications. Assuming that $A$ is the ground truth segmentation of an object represented as a binary image, and $B$ is the binary output of an image segmentation method, the Dice similarity coefficient is computed as:\n",
    "\n",
    "$\\text{Dice}(A,B) = \\frac{2|A\\cap B|}{|A| + |B|}$\n",
    "\n",
    "where $|\\cdot|$ represents the cardinality of the objects (e.g. $|A|$ is the number of non-zero pixels in the ground truth segmentation).\n",
    "\n",
    "For example, the Dice similarity can be computed in the following way:"
   ]
  },
  {
   "cell_type": "code",
   "execution_count": 11,
   "metadata": {},
   "outputs": [
    {
     "name": "stdout",
     "output_type": "stream",
     "text": [
      "0.3402777777777778\n"
     ]
    },
    {
     "data": {
      "image/png": "[encoded data removed]",
      "text/plain": [
       "<Figure size 432x288 with 1 Axes>"
      ]
     },
     "metadata": {
      "needs_background": "light"
     },
     "output_type": "display_data"
    }
   ],
   "source": [
    "# generate some test objecys\n",
    "A = np.zeros((32, 32))\n",
    "A[10:-10, 10:-10] = 1\n",
    "B = np.zeros((32, 32))\n",
    "B[5:-15, 5:-15] = 1\n",
    "\n",
    "dice = 2*np.sum(A*B)/(np.sum(A)+np.sum(B))\n",
    "\n",
    "# display the results\n",
    "plt.plot()\n",
    "plt.imshow(A)\n",
    "plt.imshow(B, alpha=0.7)\n",
    "\n",
    "print(dice)"
   ]
  },
  {
   "cell_type": "markdown",
   "metadata": {},
   "source": [
    "<p><font color='#770a0a'>Show that the $F_1$ score, which is the harmonic mean of precision and recall, is equivalent to the Dice similarity coefficient</font><p>"
   ]
  },
  {
   "cell_type": "code",
   "execution_count": 12,
   "metadata": {},
   "outputs": [
    {
     "name": "stdout",
     "output_type": "stream",
     "text": [
      "F1 Score:  0.3402777777777778\n"
     ]
    }
   ],
   "source": [
    "#for the above above generated data A and B\n",
    "from sklearn.metrics import f1_score\n",
    "\n",
    "print(\"F1 Score: \",f1_score(A.flatten(), B.flatten()))"
   ]
  },
  {
   "cell_type": "markdown",
   "metadata": {},
   "source": [
    "Proof:\n",
    "\n",
    "Dice Similarity coefficient is given by:\n",
    "$$\\text{Dice}(A,B) = \\frac{2|A\\cap B|}{|A| + |B|}$$\n",
    "Which can also be written as:\n",
    "$$ \\text{Dice}= \\frac{2 \\cdot\\text{TP}}{2\\text{TP}+\\text{FN}+\\text{FP}} \\tag{1}$$\n",
    "Where TP is True Positive, TN is True Negative, FP is False Positive and FN is False Negative\n",
    "\n",
    "We know that:\n",
    "$$\\ F_{1} = \\frac{2 \\cdot \\text{precision} \\cdot \\text{recall}}{\\text{precision} + \\text{recall}} \\tag{2}$$\n",
    "\n",
    "$$\\text{Precision} = \\frac{ \\text{TP} }{\\text{TP} + \\text{FP}}, \\text{ Recall} = \\frac{ \\text{TP} }{\\text{TP} + \\text{FN}} $$\n",
    "Substituting the values for $\\text{Precision}$ and $\\text{Recall}$ in equation 2 and simplifying gives:\n",
    "\n",
    "$$\\ F_{1} = \\frac{2 \\cdot \\frac{ \\text{TP} }{\\text{TP} + \\text{FP}} \\cdot \\frac{ \\text{TP} }{\\text{TP} + \\text{FN}}}{\\frac{ \\text{TP} }{\\text{TP} + \\text{FP}} + \\frac{ \\text{TP} }{\\text{TP} + \\text{FN}}} = \\frac{2 \\cdot\\text{TP}^2}{\\text{TP} (\\text{TP}+\\text{FN}+\\text{TP}+\\text{FP})} $$\n",
    "$$ F_{1} = \\frac{2 \\cdot\\text{TP}}{2\\text{TP}+\\text{FN}+\\text{FP}} \\tag{3}$$\n",
    "Since RHS of equation $\\text{1}$ and $\\text{3}$ are equal, we can say $F_{1}$ score is equivalent to the Dice Similarity coefficient\n"
   ]
  },
  {
   "cell_type": "code",
   "execution_count": null,
   "metadata": {},
   "outputs": [],
   "source": []
  }
 ],
 "metadata": {
  "kernelspec": {
   "display_name": "Python 3",
   "language": "python",
   "name": "python3"
  },
  "language_info": {
   "codemirror_mode": {
    "name": "ipython",
    "version": 3
   },
   "file_extension": ".py",
   "mimetype": "text/x-python",
   "name": "python",
   "nbconvert_exporter": "python",
   "pygments_lexer": "ipython3",
   "version": "3.6.15"
  }
 },
 "nbformat": 4,
 "nbformat_minor": 2
}
